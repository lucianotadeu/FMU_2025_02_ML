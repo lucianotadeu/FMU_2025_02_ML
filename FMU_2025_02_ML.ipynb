{
  "nbformat": 4,
  "nbformat_minor": 0,
  "metadata": {
    "colab": {
      "provenance": [],
      "authorship_tag": "ABX9TyNF/+1LBC83eg7ipK+uPxjY",
      "include_colab_link": true
    },
    "kernelspec": {
      "name": "python3",
      "display_name": "Python 3"
    },
    "language_info": {
      "name": "python"
    }
  },
  "cells": [
    {
      "cell_type": "markdown",
      "metadata": {
        "id": "view-in-github",
        "colab_type": "text"
      },
      "source": [
        "<a href=\"https://colab.research.google.com/github/lucianotadeu/FMU_2025_02_ML/blob/main/FMU_2025_02_ML.ipynb\" target=\"_parent\"><img src=\"https://colab.research.google.com/assets/colab-badge.svg\" alt=\"Open In Colab\"/></a>"
      ]
    },
    {
      "cell_type": "markdown",
      "source": [
        "##**colab - Disciplina Aprendizado de Máquina Supervisionado - FMU 2025.02**\n",
        "*  Professor Luciano Tadeu Pereira\n",
        "* email luciano.tadeu@fmu.br\n",
        "\n",
        "---\n",
        "\n",
        "**ATENÇÃO**: Antes de começar, faça uma cópia deste notebook para sua conta do Google Drive. Assim, você poderá editar e testar sem modificar o original.\n",
        "\n",
        "Para isso, clique em \"Arquivo\" → \"Salvar uma cópia no Drive\".\n",
        "\n",
        "OBS: Para executar este notebook, **não** é necessário um ambiente de execução com GPU.\n",
        "\n",
        "---\n"
      ],
      "metadata": {
        "id": "SszHtiWL9sNm"
      }
    },
    {
      "cell_type": "markdown",
      "source": [
        "#Glossário\n",
        "\n",
        "**Endpoint** - Um endpoint de API é um local digital onde uma interface de programação de aplicativos (API) recebe chamadas de API, também conhecidas como solicitações de API, para recursos em seu servidor. Os endpoints de APIs são componentes de APIs e, geralmente, estão na forma de URLs ou localizadores de recursos uniformes.Os endpoints são acessados usando métodos de solicitação HTTP, como POST, GET, PUT, PATCH e DELETE. Esses métodos indicam a ação que o cliente deseja realizar no recurso especificado.\n",
        "\n",
        "https://www.ibm.com/br-pt/think/topics/api-endpoint\n",
        "\n",
        "**Status de respostas HTTP** - Os códigos de status de resposta HTTP indicam se uma solicitação HTTP específica foi concluída com êxito. As respostas são agrupadas em cinco classes.\n",
        "https://developer.mozilla.org/pt-BR/docs/Web/HTTP/Reference/Status\n",
        "\n"
      ],
      "metadata": {
        "id": "XFA7hReqiYr-"
      }
    },
    {
      "cell_type": "markdown",
      "source": [
        "**Cursos de Python Gratuitos e material para estudo**\n",
        "\n",
        "Fundamentos da Programação\n",
        "\n",
        "https://mundi.ifsul.edu.br/portal/fundamentos-da-programacao.php\n",
        "\n",
        "CS50’s Introduction to Programming with Python\n",
        "\n",
        "https://cs50.harvard.edu/python/\n",
        "\n",
        "Data Science Academy: Curso Python Fundamentos Para Análise de Dados 3.0\n",
        "https://www.datascienceacademy.com.br/path-player?courseid=fundamentos-de-linguagem-python-para-analise-de-dados-e-data-science&unit=63aa11114343420e8702d3c7Unit\n",
        "\n",
        "Python Básico\n",
        "\n",
        "https://solyd.com.br/cursos/python-basico/\n",
        "\n",
        "Python.org: Documentação oficial da linguagem\n",
        "\n",
        "https://www.python.org/doc/\n",
        "\n",
        "Vídeos\n",
        "\n",
        "Curso Python #01 - Seja um Programador\n",
        "\n",
        "https://www.youtube.com/watch?v=S9uPNppGsGo&list=PLvE-ZAFRgX8hnECDn1v9HNTI71veL3oW0&index=2\n",
        "\n",
        "Curso de Programação em Python para Iniciantes | Aula 01 | PyLadies BH\n",
        "\n",
        "https://www.youtube.com/watch?v=O2xKiMl-d7Y&list=PL70CUfm2J_8SXFHovpVUbq8lB2JSuUXgk\n",
        "\n",
        "\n",
        "Ebook\n",
        "\n",
        "***Ebook – Aprendendo a programar com Python***\n",
        "\n",
        "https://mulheresprogramando.com.br/ebook-introducao-python/\n",
        "\n",
        "Livros\n",
        "\n",
        "***Pense em Python – 3ª Edição: Pense como um cientista da computação Capa comum – 14 outubro 2024\n",
        "por Allen B. Downey (Autor)***\n",
        "\n",
        "https://www.amazon.com.br/Pense-Python-Edi%C3%A7%C3%A3o-cientista-computa%C3%A7%C3%A3o/dp/8575229273?crid=V437QKFCQWU9&dib=eyJ2IjoiMSJ9.cRq2AynGBcDAAYVmHKk1gKN_6VgBIQL8Jhyi2YmRMwvrODWNPrUEhIktWOWSjeL2LHTbpNcK1YLSriOyUjn8Z6qn9UDw-VxQSyq05QB7EdXK19yN460_tKr7NMXgpcrjIxdGrb_nsPeOofKphMAijufWBhUpA3lnY9ierWYGfoI0h0ZGI4DCqwdTdridal5zG4zXwBMaFff4s9qj9xUiFkeB3Hi9X7sr2AAF2hXZjlg.3GjZAilQaAX3ZzwzOfAYrEI21PjYsMXAzOiHqjTJwTk&dib_tag=se&keywords=programa%C3%A7%C3%A3o&qid=1736619173&s=books&sprefix=progra,stripbooks,266&sr=1-49&ufe=app_do:amzn1.fos.6d798eae-cadf-45de-946a-f477d47705b9&xpid=TwGCmoBFQUJwe&linkCode=sl1&tag=explorando-ia-20&linkId=550707827734d5b2719041c67146dde0&language=pt_BR&ref_=as_li_ss_tl\n",
        "\n",
        "***Introdução à Programação com Python – 4ª Edição: Algoritmos e lógica de programação para iniciantes Capa comum – 11 março 2024\n",
        "por Nilo Ney Coutinho Menezes (Autor)***\n",
        "\n",
        "https://www.amazon.com.br/Introdu%C3%A7%C3%A3o-Programa%C3%A7%C3%A3o-com-Python-programa%C3%A7%C3%A3o/dp/8575228862?crid=V437QKFCQWU9&dib=eyJ2IjoiMSJ9.iK9EAQpuOapEN9y-YuL-4MtFDCQ2163USgjLhxnKGAMGSTYYKYtdgQrK6NtKgwpS4LiT3-j15cYlXx0M5SlSyZ2lm6NahsrXO73zATaebP0dxAXQbjHcdvn9h_CPt0bs6NeBjJj0aZIRkpwGsbcr4qx_ajeS9u0N5Ev3keLz-hTW3sh35TPQp4mA7zeTv188CqFW_K2r-hGVPI3-vm08chKIE3GlUjP-XU5fgrlEjJM.nVXcJcmSLx8TQuIYGw9p4nHqVyt9_3mhoN5R5ZBddng&dib_tag=se&keywords=programa%C3%A7%C3%A3o&qid=1736619240&s=books&sprefix=progra,stripbooks,266&sr=1-16&ufe=app_do:amzn1.fos.6d798eae-cadf-45de-946a-f477d47705b9&xpid=TwGCmoBFQUJwe&linkCode=sl1&tag=explorando-ia-20&linkId=53f954b26f31ea1ed9d53046a3e274cd&language=pt_BR&ref_=as_li_ss_tl"
      ],
      "metadata": {
        "id": "vURNs64l_6gd"
      }
    },
    {
      "cell_type": "markdown",
      "source": [
        "#Exemplo Prático com Python"
      ],
      "metadata": {
        "id": "Ca-hIUI87IzN"
      }
    },
    {
      "cell_type": "code",
      "source": [
        "class Pessoa:\n",
        "    def __init__(self, nome, idade):\n",
        "        self.nome = nome  # Atributo de instância\n",
        "        self.idade = idade # Atributo de instância\n",
        "\n",
        "    def apresentar(self): # Método de instância\n",
        "        return f\"Olá, eu sou {self.nome} e tenho {self.idade} anos.\"\n",
        "\n",
        "# Criar um objeto (instância) da classe Pessoa\n",
        "pessoa1 = Pessoa(\"Ana\", 25)\n",
        "\n",
        "# Chamar o método 'apresentar' no objeto 'pessoa1'\n",
        "print(pessoa1.apresentar()) # Saída: Olá, eu sou Ana e tenho 25 anos."
      ],
      "metadata": {
        "colab": {
          "base_uri": "https://localhost:8080/"
        },
        "id": "UHf4KXWRqq0J",
        "outputId": "5fd0d18f-1708-4e7d-b732-915ae06bd6fa"
      },
      "execution_count": null,
      "outputs": [
        {
          "output_type": "stream",
          "name": "stdout",
          "text": [
            "Olá, eu sou Ana e tenho 25 anos.\n"
          ]
        }
      ]
    },
    {
      "cell_type": "code",
      "source": [
        "# -*- coding: utf-8 -*-\n",
        "\"\"\"\n",
        "Exemplo Prático de Uso da Biblioteca `requests` no Google Colab\n",
        "\n",
        "Este notebook demonstra como usar a biblioteca `requests` para interagir\n",
        "com APIs RESTful na web, uma tarefa fundamental em muitos projetos de ciência de dados\n",
        "e desenvolvimento web.\n",
        "\n",
        "A biblioteca `requests` é uma das mais populares para fazer requisições HTTP em Python,\n",
        "simplificando a comunicação com serviços web.\n",
        "\n",
        "Tarefa Demonstração:\n",
        "Buscar uma lista de posts de uma API pública de testes (JSONPlaceholder) e exibir\n",
        "alguns detalhes dos resultados.\n",
        "\"\"\"\n",
        "\n",
        "# --- 1. Instalação da Biblioteca (se necessário) ---\n",
        "# A biblioteca `requests` geralmente já vem pré-instalada no ambiente do Google Colab.\n",
        "# Caso precise instalar ou garantir a versão mais recente, descomente a linha abaixo:\n",
        "# !pip install requests\n",
        "\n",
        "# --- 2. Importação das Bibliotecas Necessárias ---\n",
        "import requests\n",
        "import json # Usado para formatar a saída JSON de forma legível\n",
        "\n",
        "# --- 3. Definição do Endpoint da API ---\n",
        "# Usaremos a API de testes pública JSONPlaceholder para buscar uma lista de posts.\n",
        "# Esta API não requer autenticação e é perfeita para exemplos.\n",
        "api_url = \"https://jsonplaceholder.typicode.com/posts\"\n",
        "\n",
        "print(f\"URL da API definida: {api_url}\\n\")\n",
        "\n",
        "# --- 4. Realização da Requisição HTTP GET ---\n",
        "# O bloco try-except é fundamental para lidar com possíveis erros de rede,\n",
        "# de servidor ou de requisição.\n",
        "try:\n",
        "    print(\"Tentando fazer a requisição HTTP GET...\")\n",
        "    # requests.get() envia uma requisição GET para a URL especificada.\n",
        "    response = requests.get(api_url)\n",
        "\n",
        "    # --- 5. Verificação do Status da Resposta ---\n",
        "    # response.raise_for_status() levanta uma exceção HTTPError para códigos de status 4xx ou 5xx.\n",
        "    # Isso simplifica o tratamento de erros de servidor ou cliente.\n",
        "    response.raise_for_status()\n",
        "\n",
        "    print(f\"Requisição bem-sucedida! Código de status: {response.status_code}\\n\")\n",
        "\n",
        "    # --- 6. Acesso aos Dados da Resposta (JSON) ---\n",
        "    # response.json() converte a resposta JSON em um objeto Python (geralmente uma lista de dicionários).\n",
        "    data = response.json()\n",
        "\n",
        "    print(f\"Tipo de dados recebidos: {type(data)}\")\n",
        "    print(f\"Número total de posts recebidos: {len(data)}\\n\")\n",
        "\n",
        "    # --- 7. Exibição de Alguns Dados de Exemplo ---\n",
        "    print(\"### Exemplo dos Primeiros 3 Posts Recebidos ###\\n\")\n",
        "    # Itera sobre os primeiros 3 itens da lista de posts.\n",
        "    for i, post in enumerate(data[:3]):\n",
        "        print(f\"--- Post {post['id']} ---\")\n",
        "        print(f\"Título: {post['title']}\")\n",
        "        # Limita o corpo para não poluir demais a saída\n",
        "        print(f\"Corpo: {post['body'][:100]}...\")\n",
        "        print(\"-\" * 30 + \"\\n\")\n",
        "\n",
        "    # --- 8. Visualização Detalhada da Estrutura de um Post (Opcional) ---\n",
        "    if data:\n",
        "        print(\"### Estrutura Completa do Primeiro Post (JSON Formatado) ###\\n\")\n",
        "        # json.dumps() é usado para formatar o dicionário Python como uma string JSON legível,\n",
        "        # com indentação para melhor visualização.\n",
        "        print(json.dumps(data[0], indent=2))\n",
        "    else:\n",
        "        print(\"Nenhum dado recebido para exibir a estrutura detalhada.\")\n",
        "\n",
        "# --- 9. Tratamento de Erros ---\n",
        "except requests.exceptions.HTTPError as err_http:\n",
        "    print(f\"Erro HTTP ocorreu: {err_http}\") # Erros 4XX/5XX\n",
        "except requests.exceptions.ConnectionError as err_conn:\n",
        "    print(f\"Erro de Conexão: {err_conn}\") # Problemas de rede\n",
        "except requests.exceptions.Timeout as err_timeout:\n",
        "    print(f\"Erro de Timeout: {err_timeout}\") # Requisição excedeu o tempo limite\n",
        "except requests.exceptions.RequestException as err_req:\n",
        "    print(f\"Ocorreu um erro inesperado na requisição: {err_req}\") # Outros erros gerais de requests\n",
        "except json.JSONDecodeError as err_json:\n",
        "    print(f\"Erro ao decodificar JSON: A resposta não é um JSON válido. Erro: {err_json}\")\n",
        "except Exception as e:\n",
        "    print(f\"Ocorreu um erro genérico: {e}\")\n",
        "\n",
        "print(\"\\n--- Fim do Exemplo de Uso da Biblioteca `requests` ---\")\n"
      ],
      "metadata": {
        "colab": {
          "base_uri": "https://localhost:8080/"
        },
        "id": "DEasAAxy29ve",
        "outputId": "caea0899-a64d-404f-866c-066688598a8b"
      },
      "execution_count": null,
      "outputs": [
        {
          "output_type": "stream",
          "name": "stdout",
          "text": [
            "URL da API definida: https://jsonplaceholder.typicode.com/posts\n",
            "\n",
            "Tentando fazer a requisição HTTP GET...\n",
            "Requisição bem-sucedida! Código de status: 200\n",
            "\n",
            "Tipo de dados recebidos: <class 'list'>\n",
            "Número total de posts recebidos: 100\n",
            "\n",
            "### Exemplo dos Primeiros 3 Posts Recebidos ###\n",
            "\n",
            "--- Post 1 ---\n",
            "Título: sunt aut facere repellat provident occaecati excepturi optio reprehenderit\n",
            "Corpo: quia et suscipit\n",
            "suscipit recusandae consequuntur expedita et cum\n",
            "reprehenderit molestiae ut ut quas...\n",
            "------------------------------\n",
            "\n",
            "--- Post 2 ---\n",
            "Título: qui est esse\n",
            "Corpo: est rerum tempore vitae\n",
            "sequi sint nihil reprehenderit dolor beatae ea dolores neque\n",
            "fugiat blanditi...\n",
            "------------------------------\n",
            "\n",
            "--- Post 3 ---\n",
            "Título: ea molestias quasi exercitationem repellat qui ipsa sit aut\n",
            "Corpo: et iusto sed quo iure\n",
            "voluptatem occaecati omnis eligendi aut ad\n",
            "voluptatem doloribus vel accusantiu...\n",
            "------------------------------\n",
            "\n",
            "### Estrutura Completa do Primeiro Post (JSON Formatado) ###\n",
            "\n",
            "{\n",
            "  \"userId\": 1,\n",
            "  \"id\": 1,\n",
            "  \"title\": \"sunt aut facere repellat provident occaecati excepturi optio reprehenderit\",\n",
            "  \"body\": \"quia et suscipit\\nsuscipit recusandae consequuntur expedita et cum\\nreprehenderit molestiae ut ut quas totam\\nnostrum rerum est autem sunt rem eveniet architecto\"\n",
            "}\n",
            "\n",
            "--- Fim do Exemplo de Uso da Biblioteca `requests` ---\n"
          ]
        }
      ]
    },
    {
      "cell_type": "markdown",
      "source": [
        "#Classificação\n",
        "Aula FMU 2025 Aprendizado de Máquina Supervisionado"
      ],
      "metadata": {
        "id": "ITiJjldq8F8m"
      }
    },
    {
      "cell_type": "markdown",
      "source": [
        "------\n",
        "\n",
        "Exemplo Prático de Problema de Classificação: Detecção de Spam em E-mails\n",
        "\n",
        "**Descrição do Problema:**\n",
        "\n",
        "O objetivo é classificar um e-mail recebido como **\"Spam\"** ou **\"Não Spam\" (Ham)**. Isso é um problema de classificação binária, pois existem apenas duas categorias possíveis para o resultado.\n",
        "\n",
        "**Como funciona (simplificado):**\n",
        "Um modelo de machine learning seria treinado com um grande conjunto de dados de e-mails, onde cada e-mail já foi previamente rotulado (marcado manualmente) como spam ou não spam. O modelo aprende padrões nos e-mails (como certas palavras-chave, remetentes incomuns, frequência de links, etc.) que indicam se ele é spam ou não. Uma vez treinado, ele pode prever a categoria de novos e-mails.\n",
        "\n",
        "**Características (Features) Comuns:**\n",
        "*   Presença de palavras-chave (ex: \"ganhe dinheiro\", \"oferta exclusiva\")\n",
        "*   Caracteres especiais no assunto\n",
        "*   Remetente desconhecido\n",
        "*   Número de links no corpo do e-mail\n",
        "*   Uso de CAPS LOCK excessivo\n",
        "\n",
        "**Alvo (Target):**\n",
        "*   `0` (Não Spam/Ham)\n",
        "*   `1` (Spam)\n",
        "\n",
        "---\n",
        "\n",
        "### Exemplo de Código Python (Demonstrativo)\n",
        "\n"
      ],
      "metadata": {
        "id": "yEt5fd0N8-Xu"
      }
    },
    {
      "cell_type": "code",
      "source": [
        "import pandas as pd\n",
        "from sklearn.model_selection import train_test_split\n",
        "from sklearn.tree import DecisionTreeClassifier # Um classificador simples\n",
        "from sklearn.metrics import accuracy_score\n",
        "\n",
        "print(\"--- Problema de Classificação: Detecção de Spam ---\")\n",
        "\n",
        "# 1. Criação de um conjunto de dados sintético (simulando e-mails)\n",
        "# Features:\n",
        "# 'palavras_chave_spam': 1 se contem palavras de spam, 0 caso contrário\n",
        "# 'remetente_desconhecido': 1 se o remetente é desconhecido, 0 caso contrário\n",
        "# 'links_suspeitos': Número de links que parecem suspeitos\n",
        "# Target:\n",
        "# 'is_spam': 1 se é spam, 0 se não é spam\n",
        "\n",
        "data = {\n",
        "    'palavras_chave_spam': [1, 0, 1, 0, 1, 0, 1, 0, 1, 0, 0, 1, 0, 1, 0],\n",
        "    'remetente_desconhecido': [1, 0, 1, 0, 0, 0, 1, 0, 1, 0, 0, 1, 0, 1, 0],\n",
        "    'links_suspeitos':      [3, 0, 2, 0, 1, 0, 4, 0, 2, 0, 0, 3, 0, 1, 0],\n",
        "    'is_spam':              [1, 0, 1, 0, 0, 0, 1, 0, 1, 0, 0, 1, 0, 1, 0] # Apenas para o exemplo, não é a regra exata\n",
        "}\n",
        "\n",
        "df = pd.DataFrame(data)\n",
        "\n",
        "print(\"\\nDataset de Exemplo (Primeiras 5 linhas):\")\n",
        "print(df.head())\n",
        "\n",
        "# 2. Definição de Features (X) e Target (y)\n",
        "X = df[['palavras_chave_spam', 'remetente_desconhecido', 'links_suspeitos']] # Características do e-mail\n",
        "y = df['is_spam'] # Rótulo: 1 para spam, 0 para não spam\n",
        "\n",
        "# 3. Divisão dos dados em conjuntos de treino e teste\n",
        "# O modelo aprende com os dados de treino e é avaliado nos dados de teste\n",
        "X_train, X_test, y_train, y_test = train_test_split(X, y, test_size=0.3, random_state=42)\n",
        "\n",
        "print(f\"\\nNúmero de amostras para treino: {len(X_train)}\")\n",
        "print(f\"Número de amostras para teste: {len(X_test)}\")\n",
        "\n",
        "# 4. Criação e Treinamento do Modelo de Classificação\n",
        "# Usaremos uma Árvore de Decisão por ser simples de entender\n",
        "model = DecisionTreeClassifier(random_state=42)\n",
        "model.fit(X_train, y_train) # O modelo \"aprende\" os padrões nos dados de treino\n",
        "\n",
        "print(\"\\nModelo treinado com sucesso!\")\n",
        "\n",
        "# 5. Previsão e Avaliação do Modelo\n",
        "y_pred = model.predict(X_test) # O modelo faz previsões nos dados de teste\n",
        "accuracy = accuracy_score(y_test, y_pred) # Compara as previsões com os rótulos reais\n",
        "\n",
        "print(f\"Acurácia do modelo no conjunto de teste: {accuracy:.2f}\")\n",
        "\n",
        "# 6. Exemplo de Previsão para um Novo E-mail\n",
        "# Novo e-mail: tem palavras-chave de spam, remetente desconhecido, 2 links suspeitos\n",
        "novo_email_exemplo = pd.DataFrame([[1, 1, 2]], columns=X.columns)\n",
        "previsao = model.predict(novo_email_exemplo)\n",
        "\n",
        "status_email = \"SPAM\" if previsao[0] == 1 else \"NÃO SPAM (Ham)\"\n",
        "print(f\"\\nPrevisão para um novo e-mail (Palavras Chave Spam: 1, Remetente Desconhecido: 1, Links Suspeitos: 2): {status_email}\")\n",
        "\n",
        "# Outro exemplo: e-mail que parece limpo\n",
        "novo_email_limpo = pd.DataFrame([[0, 0, 0]], columns=X.columns)\n",
        "previsao_limpo = model.predict(novo_email_limpo)\n",
        "status_limpo = \"SPAM\" if previsao_limpo[0] == 1 else \"NÃO SPAM (Ham)\"\n",
        "print(f\"Previsão para um novo e-mail (Palavras Chave Spam: 0, Remetente Desconhecido: 0, Links Suspeitos: 0): {status_limpo}\")"
      ],
      "metadata": {
        "colab": {
          "base_uri": "https://localhost:8080/"
        },
        "id": "Ausate3278M2",
        "outputId": "6f145ab5-77c2-4847-b3db-341caaf09a13"
      },
      "execution_count": null,
      "outputs": [
        {
          "output_type": "stream",
          "name": "stdout",
          "text": [
            "--- Problema de Classificação: Detecção de Spam ---\n",
            "\n",
            "Dataset de Exemplo (Primeiras 5 linhas):\n",
            "   palavras_chave_spam  remetente_desconhecido  links_suspeitos  is_spam\n",
            "0                    1                       1                3        1\n",
            "1                    0                       0                0        0\n",
            "2                    1                       1                2        1\n",
            "3                    0                       0                0        0\n",
            "4                    1                       0                1        0\n",
            "\n",
            "Número de amostras para treino: 10\n",
            "Número de amostras para teste: 5\n",
            "\n",
            "Modelo treinado com sucesso!\n",
            "Acurácia do modelo no conjunto de teste: 1.00\n",
            "\n",
            "Previsão para um novo e-mail (Palavras Chave Spam: 1, Remetente Desconhecido: 1, Links Suspeitos: 2): SPAM\n",
            "Previsão para um novo e-mail (Palavras Chave Spam: 0, Remetente Desconhecido: 0, Links Suspeitos: 0): NÃO SPAM (Ham)\n"
          ]
        }
      ]
    },
    {
      "cell_type": "markdown",
      "source": [
        "**Explicação do Código:**\n",
        "\n",
        "1.  **Criação do Dataset:** Um `pd.DataFrame` é criado simulando dados de e-mails. Cada linha representa um e-mail e as colunas são as características (features) e o rótulo (`is_spam`).\n",
        "2.  **Separação X e y:** Definimos quais colunas são as características de entrada (`X`) e qual coluna é o rótulo que queremos prever (`y`).\n",
        "3.  **Divisão Treino/Teste:** Usamos `train_test_split` do scikit-learn para dividir os dados em dois conjuntos: um para treinar o modelo (`X_train`, `y_train`) e outro para testá-lo (`X_test`, `y_test`). Isso garante que o modelo seja avaliado em dados que ele nunca viu antes.\n",
        "4.  **Treinamento do Modelo:** Uma `DecisionTreeClassifier` (Árvore de Decisão) é instanciada e treinada (`.fit()`) com os dados de treino. O modelo \"aprende\" a relação entre as características e o rótulo.\n",
        "5.  **Previsão e Avaliação:** O modelo faz previsões (`.predict()`) sobre os dados de teste (`X_test`). Em seguida, a `accuracy_score` é usada para comparar essas previsões com os rótulos reais (`y_test`), dando uma ideia de quão bem o modelo está funcionando.\n",
        "6.  **Previsão para Novo Dado:** Por fim, demonstramos como usar o modelo treinado para classificar um *novo e-mail* que ele nunca viu antes, baseando-se nas suas características.\n",
        "\n",
        "Este exemplo simples ilustra todo o fluxo básico de um problema de classificação em Machine Learning."
      ],
      "metadata": {
        "id": "Noq5VlxT8MNk"
      }
    },
    {
      "cell_type": "markdown",
      "source": [
        "#Regressão\n",
        "\n",
        "Aula FMU 2025 Aprendizado de Máquina Supervisionado"
      ],
      "metadata": {
        "id": "F_xZU8Xf9ls_"
      }
    },
    {
      "cell_type": "code",
      "source": [
        "import pandas as pd\n",
        "import numpy as np\n",
        "from sklearn.model_selection import train_test_split\n",
        "from sklearn.linear_model import LinearRegression\n",
        "from sklearn.metrics import r2_score\n",
        "\n",
        "# 1. Gerar Dados Sintéticos (para este exemplo simples)\n",
        "# Em um cenário real, você carregaria um arquivo CSV ou banco de dados.\n",
        "np.random.seed(42) # Para reprodutibilidade\n",
        "\n",
        "num_carros = 100\n",
        "\n",
        "# Gerar quilometragem aleatória (entre 10.000 km e 200.000 km)\n",
        "quilometragem = np.random.uniform(10_000, 200_000, num_carros)\n",
        "\n",
        "# Gerar preço: Preço base - (quilometragem * taxa de desvalorização) + ruído\n",
        "# Exemplo: Carro novo custa ~R$ 70.000, perde R$ 0.25 por km, com variação de R$ +/- 5.000\n",
        "preco_base = 70_000\n",
        "taxa_desvalorizacao_por_km = 0.25\n",
        "ruido = np.random.normal(0, 5_000, num_carros)\n",
        "\n",
        "preco = preco_base - (quilometragem * taxa_desvalorizacao_por_km) + ruido\n",
        "# Garantir que o preço mínimo seja razoável\n",
        "preco = np.maximum(preco, 10_000)\n",
        "\n",
        "# Criar um DataFrame pandas\n",
        "df_carros = pd.DataFrame({\n",
        "    'quilometragem': quilometragem,\n",
        "    'preco': preco\n",
        "})\n",
        "\n",
        "print(\"--- Amostra dos Dados Gerados ---\")\n",
        "print(df_carros.head())\n",
        "print(\"\\n\" + \"=\"*40 + \"\\n\")\n",
        "\n",
        "# 2. Definir Features (X) e Target (y)\n",
        "# X é nossa variável independente (quilometragem), y é a variável dependente (preço)\n",
        "X = df_carros[['quilometragem']] # X deve ser um DataFrame (2D)\n",
        "y = df_carros['preco']          # y pode ser uma Series (1D)\n",
        "\n",
        "# 3. Dividir os Dados em Conjuntos de Treino e Teste\n",
        "# Usamos 80% dos dados para treinar o modelo e 20% para testar sua performance\n",
        "X_train, X_test, y_train, y_test = train_test_split(X, y, test_size=0.2, random_state=42)\n",
        "\n",
        "print(f\"Número de amostras para treino: {len(X_train)}\")\n",
        "print(f\"Número de amostras para teste: {len(X_test)}\")\n",
        "print(\"\\n\" + \"=\"*40 + \"\\n\")\n",
        "\n",
        "# 4. Criar e Treinar o Modelo de Regressão Linear\n",
        "# A Regressão Linear é um dos modelos mais simples para problemas de regressão.\n",
        "model = LinearRegression()\n",
        "model.fit(X_train, y_train) # 'fit' é onde o modelo \"aprende\" a relação entre X e y\n",
        "\n",
        "print(\"Modelo de Regressão Linear treinado!\")\n",
        "print(f\"Coeficiente angular (slope): {model.coef_[0]:.2f}\") # Quanto o preço muda por km\n",
        "print(f\"Intercepto: {model.intercept_:.2f}\") # Preço estimado com 0 km\n",
        "print(\"\\n\" + \"=\"*40 + \"\\n\")\n",
        "\n",
        "# 5. Fazer Previsões no Conjunto de Teste\n",
        "y_pred = model.predict(X_test)\n",
        "\n",
        "# 6. Avaliar o Modelo (Opcional, mas boa prática)\n",
        "# O R² (R-squared) indica o quão bem as previsões se ajustam aos valores reais.\n",
        "# 1.0 significa ajuste perfeito, 0.0 significa que o modelo não explica nada.\n",
        "r2 = r2_score(y_test, y_pred)\n",
        "print(f\"Performance do Modelo (R² no conjunto de teste): {r2:.2f}\")\n",
        "print(\"\\n\" + \"=\"*40 + \"\\n\")\n",
        "\n",
        "# 7. Exemplo de Previsão para um Novo Carro (não visto pelo modelo)\n",
        "# Vamos prever o preço de um carro com 95.000 km\n",
        "nova_quilometragem = pd.DataFrame({'quilometragem': [95_000]})\n",
        "preco_previsto = model.predict(nova_quilometragem)\n",
        "\n",
        "print(f\"Preço previsto para um carro com {nova_quilometragem.iloc[0]['quilometragem']} km: R$ {preco_previsto[0]:.2f}\")\n",
        "\n",
        "# Exemplo 2: Carro com mais km\n",
        "nova_quilometragem_2 = pd.DataFrame({'quilometragem': [180_000]})\n",
        "preco_previsto_2 = model.predict(nova_quilometragem_2)\n",
        "print(f\"Preço previsto para um carro com {nova_quilometragem_2.iloc[0]['quilometragem']} km: R$ {preco_previsto_2[0]:.2f}\")"
      ],
      "metadata": {
        "colab": {
          "base_uri": "https://localhost:8080/"
        },
        "id": "B7AWfWkf9uRI",
        "outputId": "3765848e-8ab2-493c-810e-5d777ed0b26d"
      },
      "execution_count": null,
      "outputs": [
        {
          "output_type": "stream",
          "name": "stdout",
          "text": [
            "--- Amostra dos Dados Gerados ---\n",
            "   quilometragem         preco\n",
            "0   81162.622581  50144.579696\n",
            "1  190635.718218  20846.033693\n",
            "2  149078.848944  33189.091647\n",
            "3  123745.111997  29125.877428\n",
            "4   39643.541684  58990.755140\n",
            "\n",
            "========================================\n",
            "\n",
            "Número de amostras para treino: 80\n",
            "Número de amostras para teste: 20\n",
            "\n",
            "========================================\n",
            "\n",
            "Modelo de Regressão Linear treinado!\n",
            "Coeficiente angular (slope): -0.26\n",
            "Intercepto: 70820.19\n",
            "\n",
            "========================================\n",
            "\n",
            "Performance do Modelo (R² no conjunto de teste): 0.94\n",
            "\n",
            "========================================\n",
            "\n",
            "Preço previsto para um carro com 95000 km: R$ 46066.80\n",
            "Preço previsto para um carro com 180000 km: R$ 23919.04\n"
          ]
        }
      ]
    },
    {
      "cell_type": "markdown",
      "source": [
        "---\n",
        "\n",
        "**Explicação do Código:**\n",
        "\n",
        "1.  **Geração de Dados Sintéticos:** Criamos um `DataFrame` do `pandas` com duas colunas: `quilometragem` e `preco`. Isso simula um conjunto de dados que você obteria na vida real.\n",
        "2.  **Definição de `X` e `y`:**\n",
        "    *   `X` (features) é a coluna `quilometragem`. É crucial que `X` seja um DataFrame (ou array 2D) para o scikit-learn.\n",
        "    *   `y` (target) é a coluna `preco`.\n",
        "3.  **Divisão Treino/Teste:** `train_test_split` separa seus dados em dois conjuntos: um para o modelo aprender (`_train`) e outro, separado e \"invisível\" durante o treino, para testar a performance do modelo (`_test`). Isso evita o *overfitting*.\n",
        "4.  **Treinamento do Modelo:** Instanciamos um `LinearRegression` do `sklearn.linear_model` e usamos o método `.fit(X_train, y_train)` para que o modelo aprenda a relação entre a quilometragem e o preço.\n",
        "5.  **Previsões:** Usamos o modelo treinado (`.predict(X_test)`) para fazer previsões nos dados que ele nunca viu antes (`X_test`).\n",
        "6.  **Avaliação:** Calculamos o `r2_score` para ter uma métrica de quão bem o modelo está se saindo.\n",
        "7.  **Exemplo de Previsão:** Finalmente, demonstramos como usar o modelo treinado para prever o preço de um **novo** carro com uma quilometragem específica.\n",
        "\n",
        "Este é um exemplo básico, mas ilustra perfeitamente a ideia de um problema de regressão: prever um valor numérico contínuo com base em uma ou mais características. Em um cenário real, você usaria muito mais \"features\" (idade do carro, marca, modelo, combustível, histórico de manutenção, etc.) para obter previsões mais precisas."
      ],
      "metadata": {
        "id": "OYlZlHueh_Gg"
      }
    }
  ]
}